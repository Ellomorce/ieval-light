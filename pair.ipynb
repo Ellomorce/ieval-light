{
 "cells": [
  {
   "cell_type": "code",
   "execution_count": 26,
   "metadata": {},
   "outputs": [],
   "source": [
    "from itertools import combinations, permutations"
   ]
  },
  {
   "cell_type": "code",
   "execution_count": 27,
   "metadata": {},
   "outputs": [],
   "source": [
    "var = [ 119, 201, 544, 783, 103, 77, 405, 802]"
   ]
  },
  {
   "cell_type": "code",
   "execution_count": 28,
   "metadata": {},
   "outputs": [],
   "source": [
    "def find_best_pairs(numbers):\n",
    "    best_pairs = None\n",
    "    min_total_diff = float('inf')\n",
    "\n",
    "    for permutation in permutations(numbers):\n",
    "        pairs = [(permutation[i], permutation[i + 1]) for i in range(0, len(permutation), 2)]\n",
    "        total_diff = sum(abs(sum(pair) - 1440) for pair in pairs)\n",
    "\n",
    "        if total_diff < min_total_diff and all(pair[0] + pair[1] <= 1440 for pair in pairs):\n",
    "            min_total_diff = total_diff\n",
    "            best_pairs = pairs\n",
    "\n",
    "    return best_pairs"
   ]
  },
  {
   "cell_type": "code",
   "execution_count": 29,
   "metadata": {},
   "outputs": [
    {
     "name": "stdout",
     "output_type": "stream",
     "text": [
      "Best Pairs: [(119, 201), (544, 783), (103, 77), (405, 802)]\n"
     ]
    }
   ],
   "source": [
    "result = find_best_pairs(var)\n",
    "\n",
    "print(\"Best Pairs:\", result)"
   ]
  }
 ],
 "metadata": {
  "kernelspec": {
   "display_name": "llm",
   "language": "python",
   "name": "python3"
  },
  "language_info": {
   "codemirror_mode": {
    "name": "ipython",
    "version": 3
   },
   "file_extension": ".py",
   "mimetype": "text/x-python",
   "name": "python",
   "nbconvert_exporter": "python",
   "pygments_lexer": "ipython3",
   "version": "3.10.13"
  }
 },
 "nbformat": 4,
 "nbformat_minor": 2
}
