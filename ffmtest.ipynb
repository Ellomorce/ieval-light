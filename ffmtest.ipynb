{
 "cells": [
  {
   "cell_type": "code",
   "execution_count": null,
   "metadata": {},
   "outputs": [],
   "source": [
    "import json\n",
    "import requests\n",
    "import pandas as pd\n",
    "from datasets import load_dataset"
   ]
  },
  {
   "cell_type": "code",
   "execution_count": null,
   "metadata": {},
   "outputs": [],
   "source": [
    "class FFMLLama2:\n",
    "    def __init__(self, api_key, model_name, api_url, max_new_tokens=350, temperature=0.5, top_k=50, top_p=1.0, frequency_penalty=1.0):\n",
    "        self.api_key = api_key\n",
    "        self.model_name = model_name\n",
    "        self.api_url = api_url\n",
    "        self.max_new_tokens = max_new_tokens\n",
    "        self.temperature = temperature\n",
    "        self.top_k = top_k\n",
    "        self.top_p = top_p\n",
    "        self.frequency_penalty = frequency_penalty\n",
    "\n",
    "    def conversation(self, system, contents):\n",
    "        headers = {\n",
    "            \"content-type\": \"application/json\",\n",
    "            \"X-API-Key\": self.api_key}\n",
    "        roles  = [\"human\", \"assistant\"]\n",
    "        messages = []\n",
    "        if system is not None:\n",
    "            messages.append({\"role\":\"system\", \"content\": system})\n",
    "        for index, content in enumerate(contents):\n",
    "            messages.append({\"role\": roles[index%2], \"content\": content})\n",
    "        data = {\n",
    "            \"model\":self.model_name,\n",
    "            \"message\":messages,\n",
    "            \"parameters\": {\n",
    "                \"max_new_tokens\": self.max_new_tokens,\n",
    "                \"temperature\": self.temperature,\n",
    "                \"top_k\": self.top_k,\n",
    "                \"top_p\": self.top_p,\n",
    "                \"frequency_penalty\": self.frequency_penalty\n",
    "                }\n",
    "        }\n",
    "        print(messages)\n",
    "\n",
    "        result = \"\"\n",
    "        response = requests.post(self.api_url + \"/api/models/conversation\", json=data, headers=headers, verify=False)\n",
    "        print(response.status_code)\n",
    "        if response.status_code == 200:\n",
    "            print(response)\n",
    "            result = json.loads(response.text, strict=False)['generated_text']\n",
    "            with open('answer_record.json', 'a', encoding='utf-8-sig') as f:\n",
    "                    json.dump(result, f, ensure_ascii=False, indent=2)\n",
    "        else:\n",
    "             print(f\"error, status_code:{response.status_code}\")\n",
    "        return result.strip(\"\\n\")"
   ]
  },
  {
   "cell_type": "code",
   "execution_count": null,
   "metadata": {},
   "outputs": [],
   "source": [
    "MODEL_NAME = \"ffm-llama2-70b-chat-exp\"\n",
    "API_KEY = \"98430d42-c60c-4612-adbb-eeb927c5c2be\"\n",
    "API_URL = \"https://53955.afs.twcc.ai/text-generation\""
   ]
  },
  {
   "cell_type": "code",
   "execution_count": null,
   "metadata": {},
   "outputs": [],
   "source": [
    "ffmllama =FFMLLama2(API_KEY, MODEL_NAME, API_URL)\n",
    "system_prompt = \"You are an AI assistant, Please read the following documents than choose an answer from A, B, C, D.\"\n",
    "contents = [\"關於腦性麻痺的敘述，下列何者錯誤? A_牙科治療要使用張口器前須慎重考慮，以免刺激病人的嘔吐反射, B_痙攣性腦性麻痺佔腦性麻痺患者的約7成, C_paraplegia腦性麻痺患者是指單側肢體受影響的腦性麻痺, D_治療過程盡量為維持病人頭部穩定，四肢盡量靠近軀幹\"] \n",
    "result = ffmllama.conversation(system_prompt, contents)"
   ]
  },
  {
   "cell_type": "code",
   "execution_count": null,
   "metadata": {},
   "outputs": [],
   "source": [
    "print(result)"
   ]
  }
 ],
 "metadata": {
  "kernelspec": {
   "display_name": "llm",
   "language": "python",
   "name": "python3"
  },
  "language_info": {
   "name": "python",
   "version": "3.10.13"
  }
 },
 "nbformat": 4,
 "nbformat_minor": 2
}
