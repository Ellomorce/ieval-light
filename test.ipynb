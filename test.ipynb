{
 "cells": [
  {
   "cell_type": "code",
   "execution_count": 8,
   "metadata": {},
   "outputs": [],
   "source": [
    "import tqdm\n",
    "import pandas as pd\n",
    "from datasets import load_dataset\n",
    "import random"
   ]
  },
  {
   "cell_type": "code",
   "execution_count": 4,
   "metadata": {},
   "outputs": [
    {
     "name": "stderr",
     "output_type": "stream",
     "text": [
      "Downloading readme: 100%|██████████| 24.2k/24.2k [00:00<00:00, 8.07MB/s]\n",
      "Downloading data: 100%|██████████| 1.61k/1.61k [00:00<00:00, 3.92kB/s]\n",
      "Downloading data: 100%|██████████| 4.02k/4.02k [00:00<00:00, 18.0kB/s]\n",
      "Downloading data: 100%|██████████| 27.4k/27.4k [00:00<00:00, 117kB/s]\n",
      "Generating train split: 5 examples [00:00, 555.54 examples/s]\n",
      "Generating validation split: 11 examples [00:00, 2203.52 examples/s]\n",
      "Generating test split: 103 examples [00:00, 25787.22 examples/s]\n"
     ]
    }
   ],
   "source": [
    "# data_path = r'D:\\ellom\\working\\Llm_eval\\tmmluplus\\data'\n",
    "test = load_dataset(\"ikala/tmmluplus\", \"engineering_math\")[\"test\"]\n",
    "test_df = pd.DataFrame([dict(row) for row in test])"
   ]
  },
  {
   "cell_type": "code",
   "execution_count": 5,
   "metadata": {},
   "outputs": [
    {
     "data": {
      "text/html": [
       "<div>\n",
       "<style scoped>\n",
       "    .dataframe tbody tr th:only-of-type {\n",
       "        vertical-align: middle;\n",
       "    }\n",
       "\n",
       "    .dataframe tbody tr th {\n",
       "        vertical-align: top;\n",
       "    }\n",
       "\n",
       "    .dataframe thead th {\n",
       "        text-align: right;\n",
       "    }\n",
       "</style>\n",
       "<table border=\"1\" class=\"dataframe\">\n",
       "  <thead>\n",
       "    <tr style=\"text-align: right;\">\n",
       "      <th></th>\n",
       "      <th>question</th>\n",
       "      <th>A</th>\n",
       "      <th>B</th>\n",
       "      <th>C</th>\n",
       "      <th>D</th>\n",
       "      <th>answer</th>\n",
       "    </tr>\n",
       "  </thead>\n",
       "  <tbody>\n",
       "    <tr>\n",
       "      <th>0</th>\n",
       "      <td>給定兩向量u=[1 1 2]T及 v=[2 -1 1]T ，下列選項何者錯誤？</td>\n",
       "      <td>此兩向量的外積（cross product）為[-3 -3 3]T</td>\n",
       "      <td>此兩向量的夾角為 π/3</td>\n",
       "      <td>此兩向量的內積（inner product）為 3</td>\n",
       "      <td>此兩向量的範數（norm）乘積為 6</td>\n",
       "      <td>A</td>\n",
       "    </tr>\n",
       "    <tr>\n",
       "      <th>1</th>\n",
       "      <td>2已知\\(X\\)和\\(Y\\)的聯合機率密度函數 (Joint probability den...</td>\n",
       "      <td>在 0 ≤ x ≤1 ， fX( x) = 2 x</td>\n",
       "      <td>條件機率密度函數 \\[ f_{Y|X}(y|x) = \\begin{cases} \\frac...</td>\n",
       "      <td>條件機率密度函數 \\[ f_{X|Y}(x|y) = \\begin{cases} \\frac...</td>\n",
       "      <td>在 0 ≤ y ≤1 ， fY( y) = 2(1 - y)</td>\n",
       "      <td>C</td>\n",
       "    </tr>\n",
       "    <tr>\n",
       "      <th>2</th>\n",
       "      <td>利用拉普拉斯轉換（Laplacetransform）解下列二階微分方程式y\"+5y'+6y=...</td>\n",
       "      <td>\\( y = 2e^{-2(t-1)} + 2e^{-3(t-1)} \\)</td>\n",
       "      <td>\\( y = 2e^{2(t-1)} + 2e^{-3(t-1)} \\)</td>\n",
       "      <td>\\( y = 2e^{-2(t-1)} - 2e^{-3(t-1)} \\)</td>\n",
       "      <td>\\( y = 2e^{-2(t-1)} - 2e^{3(t-1)} \\)</td>\n",
       "      <td>C</td>\n",
       "    </tr>\n",
       "  </tbody>\n",
       "</table>\n",
       "</div>"
      ],
      "text/plain": [
       "                                            question  \\\n",
       "0            給定兩向量u=[1 1 2]T及 v=[2 -1 1]T ，下列選項何者錯誤？   \n",
       "1  2已知\\(X\\)和\\(Y\\)的聯合機率密度函數 (Joint probability den...   \n",
       "2  利用拉普拉斯轉換（Laplacetransform）解下列二階微分方程式y\"+5y'+6y=...   \n",
       "\n",
       "                                       A  \\\n",
       "0      此兩向量的外積（cross product）為[-3 -3 3]T   \n",
       "1              在 0 ≤ x ≤1 ， fX( x) = 2 x   \n",
       "2  \\( y = 2e^{-2(t-1)} + 2e^{-3(t-1)} \\)   \n",
       "\n",
       "                                                   B  \\\n",
       "0                                       此兩向量的夾角為 π/3   \n",
       "1  條件機率密度函數 \\[ f_{Y|X}(y|x) = \\begin{cases} \\frac...   \n",
       "2               \\( y = 2e^{2(t-1)} + 2e^{-3(t-1)} \\)   \n",
       "\n",
       "                                                   C  \\\n",
       "0                          此兩向量的內積（inner product）為 3   \n",
       "1  條件機率密度函數 \\[ f_{X|Y}(x|y) = \\begin{cases} \\frac...   \n",
       "2              \\( y = 2e^{-2(t-1)} - 2e^{-3(t-1)} \\)   \n",
       "\n",
       "                                      D answer  \n",
       "0                    此兩向量的範數（norm）乘積為 6      A  \n",
       "1        在 0 ≤ y ≤1 ， fY( y) = 2(1 - y)      C  \n",
       "2  \\( y = 2e^{-2(t-1)} - 2e^{3(t-1)} \\)      C  "
      ]
     },
     "execution_count": 5,
     "metadata": {},
     "output_type": "execute_result"
    }
   ],
   "source": [
    "test_df.head(3)"
   ]
  },
  {
   "cell_type": "code",
   "execution_count": 6,
   "metadata": {},
   "outputs": [
    {
     "data": {
      "text/plain": [
       "(103, 6)"
      ]
     },
     "execution_count": 6,
     "metadata": {},
     "output_type": "execute_result"
    }
   ],
   "source": [
    "test_df.shape"
   ]
  },
  {
   "cell_type": "code",
   "execution_count": 11,
   "metadata": {},
   "outputs": [],
   "source": [
    "answers = list(test_df[\"answer\"])"
   ]
  },
  {
   "cell_type": "code",
   "execution_count": 12,
   "metadata": {},
   "outputs": [
    {
     "name": "stdout",
     "output_type": "stream",
     "text": [
      "103\n"
     ]
    }
   ],
   "source": [
    "print(len(answers))"
   ]
  },
  {
   "cell_type": "code",
   "execution_count": 9,
   "metadata": {},
   "outputs": [],
   "source": [
    "sample_ans = [\"A\", \"B\", \"C\", \"D\"]\n",
    "ans_list = [random.choice(sample_ans) for _ in range(103)]"
   ]
  },
  {
   "cell_type": "code",
   "execution_count": 10,
   "metadata": {},
   "outputs": [
    {
     "name": "stdout",
     "output_type": "stream",
     "text": [
      "['B', 'D', 'B', 'A', 'A', 'C', 'B', 'A', 'B', 'C', 'A', 'A', 'C', 'D', 'B', 'A', 'C', 'A', 'A', 'C', 'A', 'C', 'D', 'D', 'A', 'A', 'D', 'D', 'D', 'C', 'B', 'D', 'A', 'C', 'B', 'D', 'C', 'B', 'B', 'B', 'D', 'C', 'B', 'A', 'A', 'D', 'B', 'B', 'C', 'B', 'C', 'C', 'D', 'C', 'C', 'C', 'D', 'A', 'B', 'C', 'A', 'B', 'C', 'C', 'D', 'A', 'B', 'A', 'A', 'C', 'A', 'C', 'B', 'D', 'A', 'B', 'A', 'D', 'C', 'B', 'A', 'A', 'C', 'B', 'D', 'D', 'A', 'D', 'B', 'D', 'B', 'A', 'D', 'D', 'D', 'A', 'C', 'C', 'D', 'C', 'B', 'B', 'D']\n"
     ]
    }
   ],
   "source": [
    "print(ans_list)"
   ]
  },
  {
   "cell_type": "code",
   "execution_count": 13,
   "metadata": {},
   "outputs": [],
   "source": [
    "correct_num = 0\n",
    "score = []"
   ]
  },
  {
   "cell_type": "code",
   "execution_count": 14,
   "metadata": {},
   "outputs": [
    {
     "name": "stderr",
     "output_type": "stream",
     "text": [
      "100%|██████████| 103/103 [00:00<00:00, 17165.86it/s]\n"
     ]
    }
   ],
   "source": [
    "for row_index, row in tqdm.tqdm(test_df.iterrows(), total=len(test_df), dynamic_ncols=True):\n",
    "    if len(ans_list) >0 and (ans_list[-1] == row['answer']):\n",
    "        correct_num += 1\n",
    "        correct = 1\n",
    "    else:\n",
    "        correct = 0\n",
    "    score.append(correct)"
   ]
  },
  {
   "cell_type": "code",
   "execution_count": 19,
   "metadata": {},
   "outputs": [],
   "source": [
    "correct_ratio = 100 * correct_num / len(answers)"
   ]
  },
  {
   "cell_type": "code",
   "execution_count": 20,
   "metadata": {},
   "outputs": [
    {
     "name": "stdout",
     "output_type": "stream",
     "text": [
      "24.271844660194176\n"
     ]
    }
   ],
   "source": [
    "print(correct_ratio)"
   ]
  },
  {
   "cell_type": "code",
   "execution_count": 21,
   "metadata": {},
   "outputs": [],
   "source": [
    "test_df[\"Val_answer\"] = ans_list\n",
    "test_df[\"correctness\"] = score"
   ]
  },
  {
   "cell_type": "code",
   "execution_count": 22,
   "metadata": {},
   "outputs": [],
   "source": [
    "test_df.to_csv(\"test.csv\", encoding=\"utf-8\", index=False)"
   ]
  }
 ],
 "metadata": {
  "kernelspec": {
   "display_name": "llm",
   "language": "python",
   "name": "python3"
  },
  "language_info": {
   "codemirror_mode": {
    "name": "ipython",
    "version": 3
   },
   "file_extension": ".py",
   "mimetype": "text/x-python",
   "name": "python",
   "nbconvert_exporter": "python",
   "pygments_lexer": "ipython3",
   "version": "3.10.13"
  }
 },
 "nbformat": 4,
 "nbformat_minor": 2
}
